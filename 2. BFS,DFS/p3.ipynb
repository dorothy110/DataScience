{
 "cells": [
  {
   "cell_type": "code",
   "execution_count": 2,
   "id": "a3fdd078-5c2a-4f84-bbc0-6615545b83c8",
   "metadata": {},
   "outputs": [
    {
     "name": "stdout",
     "output_type": "stream",
     "text": [
      "['2.txt', '4.txt'] ['M'] M\n"
     ]
    }
   ],
   "source": [
    "import scrape\n",
    "f = scrape.FileSearcher()\n",
    "print(f.visit_and_get_children(\"1.txt\"), f.order, f.concat_order())"
   ]
  },
  {
   "cell_type": "code",
   "execution_count": 3,
   "id": "2af6f9ce-d6b9-4536-b1f9-e1526c0d26b7",
   "metadata": {},
   "outputs": [],
   "source": [
    "import os\n",
    "from selenium.webdriver.chrome.options import Options\n",
    "from selenium.webdriver.chrome.service import Service\n",
    "from selenium import webdriver\n",
    "import scrape"
   ]
  },
  {
   "cell_type": "code",
   "execution_count": 4,
   "id": "e02acb95-a809-43b2-b639-e0c5bc9d9f9b",
   "metadata": {},
   "outputs": [
    {
     "name": "stdout",
     "output_type": "stream",
     "text": [
      "['http://34.71.246.126:5000/Node_2.html', 'http://34.71.246.126:5000/Node_4.html']\n",
      "    clue   latitude   longitude                          description\n",
      "0      1  43.089034  -89.416128              Picnic Point in Madison\n",
      "1      7  38.105507  126.910613               Silver Beach in Hawaii\n",
      "2      1  65.044901  -16.712836  Shore of a Volcanic Lake in Iceland\n",
      "3      3  48.860945    2.335773                  The Louvre in Paris\n",
      "4      8  51.180315   -1.829659                 Stonehenge in the UK\n",
      "5      5  37.434183 -122.321990      Redwood forest in San Francisco\n",
      "6      2  27.987586   86.925002                 Mt. Everest in Nepal\n",
      "7      4  34.134117 -118.321495                 Hollywood Sign in LA\n",
      "8      5  38.655100   90.061800                 Cahokia Mounds in IL\n",
      "9      9  40.748400   73.985700          Empire State Building in NY\n",
      "10     4  29.975300   31.137600        Great Sphinx of Giza in Egypt\n",
      "11     1  47.557600   10.749800     Neuschwanstein Castle in Germany\n",
      "12     5  38.624700   90.184800        The Gateway Arch in St. Louis\n",
      "13     3  30.328500   35.444400                      Petra in Jordan\n",
      "14     2  41.480800   82.683400                    Cedar Point in OH\n",
      "15     6  43.070010  -89.409450          Quick Trip on Monroe Street\n"
     ]
    }
   ],
   "source": [
    "\n",
    "# kill previous chrome instance if still around (to conserve memory)\n",
    "os.system(\"pkill -f -9 chromium\")\n",
    "\n",
    "options = Options()\n",
    "options.headless = True\n",
    "service = Service(executable_path=\"chromium.chromedriver\")\n",
    "driver = webdriver.Chrome(options=options, service=service)\n",
    "\n",
    "# TODO: use IP address of your VM\n",
    "start_url = \"http://34.71.246.126:5000/Node_1.html\"\n",
    "\n",
    "s = scrape.WebSearcher(driver)\n",
    "print(s.visit_and_get_children(start_url))\n",
    "\n",
    "s = scrape.WebSearcher(driver)\n",
    "s.bfs_search(start_url)\n",
    "\n",
    "print(s.table())\n",
    "\n",
    "driver.close()"
   ]
  },
  {
   "cell_type": "code",
   "execution_count": 5,
   "id": "c479c9a8-949d-46f6-9930-a46dc9d2fda9",
   "metadata": {},
   "outputs": [
    {
     "data": {
      "text/plain": [
       "'1713852459415326'"
      ]
     },
     "execution_count": 5,
     "metadata": {},
     "output_type": "execute_result"
    }
   ],
   "source": [
    "#generate a password from the \"clues\" column of the travellog DataFrame.\n",
    "#For example, if travellog is the big DataFrame built after doing BFS \n",
    "#(as shown earlier), the password will start with \"17138...\"   \n",
    "ser1 = s.table()\n",
    "string = \"\"\n",
    "for i in range(len(ser1)):\n",
    "    string += str(ser1[\"clue\"][i])\n",
    "string"
   ]
  },
  {
   "cell_type": "code",
   "execution_count": 10,
   "id": "0e4aa1f4-7b86-467b-938a-262553d856aa",
   "metadata": {},
   "outputs": [],
   "source": [
    "url = \"http://34.71.246.126:5000\""
   ]
  },
  {
   "cell_type": "code",
   "execution_count": 11,
   "id": "a705f07e-e064-4f61-aaa5-3c29b58ab012",
   "metadata": {},
   "outputs": [
    {
     "name": "stdout",
     "output_type": "stream",
     "text": [
      "1713852459415326\n"
     ]
    }
   ],
   "source": [
    "scrape.reveal_secrets(driver, url,s.table())"
   ]
  },
  {
   "cell_type": "code",
   "execution_count": null,
   "id": "59cfc49c-f1e3-479b-8660-77f1a96dd13d",
   "metadata": {},
   "outputs": [],
   "source": []
  }
 ],
 "metadata": {
  "kernelspec": {
   "display_name": "Python 3",
   "language": "python",
   "name": "python3"
  },
  "language_info": {
   "codemirror_mode": {
    "name": "ipython",
    "version": 3
   },
   "file_extension": ".py",
   "mimetype": "text/x-python",
   "name": "python",
   "nbconvert_exporter": "python",
   "pygments_lexer": "ipython3",
   "version": "3.9.6 (default, Oct 18 2022, 12:41:40) \n[Clang 14.0.0 (clang-1400.0.29.202)]"
  },
  "vscode": {
   "interpreter": {
    "hash": "31f2aee4e71d21fbe5cf8b01ff0e069b9275f58929596ceb00d14d90e3e16cd6"
   }
  }
 },
 "nbformat": 4,
 "nbformat_minor": 5
}
