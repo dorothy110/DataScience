{
 "cells": [
  {
   "cell_type": "code",
   "execution_count": 4,
   "id": "d697fc0a-1cc4-4679-b866-d7caec4ec444",
   "metadata": {},
   "outputs": [],
   "source": [
    "class Parent:\n",
    "    def twice(self):\n",
    "        self.message()\n",
    "        self.message()\n",
    "        \n",
    "    def message(self):\n",
    "        print(\"parent says hi\")\n",
    "        \n",
    "class Child(Parent):\n",
    "    def message(self):\n",
    "        print(\"child says hi\")\n",
    "        \n",
    "c = Child()\n",
    "\n",
    "\n"
   ]
  },
  {
   "cell_type": "code",
   "execution_count": 5,
   "id": "6858da0f-0fe1-4708-b0e5-ff7b59a88627",
   "metadata": {},
   "outputs": [
    {
     "name": "stdout",
     "output_type": "stream",
     "text": [
      "child says hi\n",
      "child says hi\n"
     ]
    }
   ],
   "source": [
    "c.twice()"
   ]
  },
  {
   "cell_type": "code",
   "execution_count": null,
   "id": "ad19c1fe-ae78-48a4-872b-de49bd4d2264",
   "metadata": {},
   "outputs": [],
   "source": [
    "class GraphSearcher:\n",
    "    def __init__(self):\n",
    "        self.visited = set()\n",
    "        self.order = []\n",
    "\n",
    "    def visit_and_get_children(self, node):\n",
    "        \"\"\" Record the node value in self.order, and return its children\n",
    "        param: node\n",
    "        return: children of the given node\n",
    "        \"\"\"\n",
    "        raise Exception(\"must be overridden in sub classes -- don't change me here!\")\n",
    "\n",
    "    def dfs_search(self, node):\n",
    "        # 1. clear out visited set and order list\n",
    "        \n",
    "        # 2. start recursive search by calling dfs_visit\n",
    "\n",
    "    def dfs_visit(self, node):\n",
    "        # 1. if this node has already been visited, just `return` (no value necessary)\n",
    "        # 2. mark node as visited by adding it to the set\n",
    "        # 3. call self.visit_and_get_children(node) to get the children\n",
    "        # 4. in a loop, call dfs_visit on each of the children\n",
    "        #当stack 不空， 或者 node不是null\n",
    "            #当node不是null\n",
    "                #将node放进去stack\n",
    "                # node 换成左边的子节点\n",
    "            #从stack 的顶上拿出一个nodeA， \n",
    "            #处理这个nodeA\n",
    "            #node 换成刚刚nodeA的右边的node\n",
    "\n",
    "    "
   ]
  },
  {
   "cell_type": "code",
   "execution_count": null,
   "id": "53870164-6fda-4446-9cc2-3de389b649df",
   "metadata": {},
   "outputs": [],
   "source": []
  },
  {
   "cell_type": "code",
   "execution_count": null,
   "id": "caf2f3cd-26ac-4e80-a74d-176faa99e34c",
   "metadata": {},
   "outputs": [],
   "source": [
    "g = GraphSearcher()\n",
    "g.dfs_search(\"A\")"
   ]
  }
 ],
 "metadata": {
  "kernelspec": {
   "display_name": "Python 3 (ipykernel)",
   "language": "python",
   "name": "python3"
  },
  "language_info": {
   "codemirror_mode": {
    "name": "ipython",
    "version": 3
   },
   "file_extension": ".py",
   "mimetype": "text/x-python",
   "name": "python",
   "nbconvert_exporter": "python",
   "pygments_lexer": "ipython3",
   "version": "3.10.4"
  }
 },
 "nbformat": 4,
 "nbformat_minor": 5
}
