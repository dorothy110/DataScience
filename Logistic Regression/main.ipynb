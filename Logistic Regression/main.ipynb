{
 "cells": [
  {
   "cell_type": "code",
   "execution_count": 3,
   "id": "7ec06299-83fe-4a7a-8ac0-5718cde6379a",
   "metadata": {},
   "outputs": [],
   "source": [
    "import main\n",
    "import pandas as pd"
   ]
  },
  {
   "cell_type": "code",
   "execution_count": 8,
   "id": "d93b82a8-716a-4c59-ad1a-274e680c2e4e",
   "metadata": {},
   "outputs": [
    {
     "name": "stdout",
     "output_type": "stream",
     "text": [
      "AVG: 0.8009000000000001, STD: 0.005494037171738503\n",
      "\n"
     ]
    }
   ],
   "source": [
    "from main import UserPredictor\n",
    "model = UserPredictor()\n",
    "train_users = pd.read_csv(\"data/train_users.csv\")\n",
    "train_logs = pd.read_csv(\"data/train_logs.csv\")\n",
    "train_y = pd.read_csv(\"data/train_y.csv\")\n",
    "model.fit(train_users, train_logs, train_y)"
   ]
  },
  {
   "cell_type": "code",
   "execution_count": 9,
   "id": "9c2e27e8-f988-4adc-9dca-67b7ed00cfff",
   "metadata": {},
   "outputs": [],
   "source": [
    "# If y_pred[n] is True,\n",
    "# that means you predict the user at index n will click the email;\n",
    "# otherwise, you're predicting they will not."
   ]
  },
  {
   "cell_type": "code",
   "execution_count": 10,
   "id": "b3c84ff6-3966-4a32-a4d1-5a64fefb5070",
   "metadata": {},
   "outputs": [],
   "source": [
    "test_users = pd.read_csv(\"data/test1_users.csv\")\n",
    "test_logs = pd.read_csv(\"data/test1_logs.csv\")\n",
    "y_pred = model.predict(test_users, test_logs)"
   ]
  },
  {
   "cell_type": "code",
   "execution_count": 11,
   "id": "034d2fc8-887c-4019-aa80-9077d9003e46",
   "metadata": {},
   "outputs": [
    {
     "ename": "SyntaxError",
     "evalue": "incomplete input (852396515.py, line 5)",
     "output_type": "error",
     "traceback": [
      "\u001b[0;36m  Cell \u001b[0;32mIn [11], line 5\u001b[0;36m\u001b[0m\n\u001b[0;31m    dic_id = dict(sorted(dic_id.items())\u001b[0m\n\u001b[0m                                        ^\u001b[0m\n\u001b[0;31mSyntaxError\u001b[0m\u001b[0;31m:\u001b[0m incomplete input\n"
     ]
    }
   ],
   "source": [
    "dic_id = train_logs.groupby(\"user_id\").sum(\"seconds\").to_dict()[\"seconds\"]\n",
    "for i in train_users[\"user_id\"]:\n",
    "    if i not in dic_id:\n",
    "        dic_id[i] = 0\n",
    "dic_id = dict(sorted(dic_id.items()"
   ]
  },
  {
   "cell_type": "code",
   "execution_count": 13,
   "id": "cfa0cbee-5574-4765-a957-d8ba6bb037bc",
   "metadata": {},
   "outputs": [],
   "source": [
    "a = train_users"
   ]
  },
  {
   "cell_type": "code",
   "execution_count": 14,
   "id": "9b68b83e-20bd-4443-aff8-3a8195fa4c6c",
   "metadata": {},
   "outputs": [
    {
     "data": {
      "text/html": [
       "<div>\n",
       "<style scoped>\n",
       "    .dataframe tbody tr th:only-of-type {\n",
       "        vertical-align: middle;\n",
       "    }\n",
       "\n",
       "    .dataframe tbody tr th {\n",
       "        vertical-align: top;\n",
       "    }\n",
       "\n",
       "    .dataframe thead th {\n",
       "        text-align: right;\n",
       "    }\n",
       "</style>\n",
       "<table border=\"1\" class=\"dataframe\">\n",
       "  <thead>\n",
       "    <tr style=\"text-align: right;\">\n",
       "      <th></th>\n",
       "      <th>user_id</th>\n",
       "      <th>names</th>\n",
       "      <th>age</th>\n",
       "      <th>past_purchase_amt</th>\n",
       "      <th>badge</th>\n",
       "      <th>total seconds</th>\n",
       "      <th>id num</th>\n",
       "    </tr>\n",
       "  </thead>\n",
       "  <tbody>\n",
       "    <tr>\n",
       "      <th>0</th>\n",
       "      <td>0</td>\n",
       "      <td>Adriana Mcclure</td>\n",
       "      <td>26</td>\n",
       "      <td>39.344704</td>\n",
       "      <td>gold</td>\n",
       "      <td>327</td>\n",
       "      <td>4</td>\n",
       "    </tr>\n",
       "    <tr>\n",
       "      <th>1</th>\n",
       "      <td>1</td>\n",
       "      <td>Stacy Gilmore</td>\n",
       "      <td>67</td>\n",
       "      <td>15.840151</td>\n",
       "      <td>silver</td>\n",
       "      <td>78</td>\n",
       "      <td>1</td>\n",
       "    </tr>\n",
       "    <tr>\n",
       "      <th>2</th>\n",
       "      <td>2</td>\n",
       "      <td>Joanna Walsh</td>\n",
       "      <td>50</td>\n",
       "      <td>1099.420085</td>\n",
       "      <td>bronze</td>\n",
       "      <td>432</td>\n",
       "      <td>4</td>\n",
       "    </tr>\n",
       "    <tr>\n",
       "      <th>3</th>\n",
       "      <td>3</td>\n",
       "      <td>Eduardo Moore</td>\n",
       "      <td>65</td>\n",
       "      <td>5.880239</td>\n",
       "      <td>bronze</td>\n",
       "      <td>0</td>\n",
       "      <td>0</td>\n",
       "    </tr>\n",
       "    <tr>\n",
       "      <th>4</th>\n",
       "      <td>4</td>\n",
       "      <td>Angela Freeman</td>\n",
       "      <td>88</td>\n",
       "      <td>1312.296847</td>\n",
       "      <td>bronze</td>\n",
       "      <td>0</td>\n",
       "      <td>0</td>\n",
       "    </tr>\n",
       "    <tr>\n",
       "      <th>...</th>\n",
       "      <td>...</td>\n",
       "      <td>...</td>\n",
       "      <td>...</td>\n",
       "      <td>...</td>\n",
       "      <td>...</td>\n",
       "      <td>...</td>\n",
       "      <td>...</td>\n",
       "    </tr>\n",
       "    <tr>\n",
       "      <th>29995</th>\n",
       "      <td>29995</td>\n",
       "      <td>William Lewis</td>\n",
       "      <td>87</td>\n",
       "      <td>108.914205</td>\n",
       "      <td>bronze</td>\n",
       "      <td>563</td>\n",
       "      <td>4</td>\n",
       "    </tr>\n",
       "    <tr>\n",
       "      <th>29996</th>\n",
       "      <td>29996</td>\n",
       "      <td>James Miranda</td>\n",
       "      <td>49</td>\n",
       "      <td>291.969273</td>\n",
       "      <td>gold</td>\n",
       "      <td>532</td>\n",
       "      <td>6</td>\n",
       "    </tr>\n",
       "    <tr>\n",
       "      <th>29997</th>\n",
       "      <td>29997</td>\n",
       "      <td>Carlos Davis</td>\n",
       "      <td>46</td>\n",
       "      <td>2.609698</td>\n",
       "      <td>bronze</td>\n",
       "      <td>0</td>\n",
       "      <td>0</td>\n",
       "    </tr>\n",
       "    <tr>\n",
       "      <th>29998</th>\n",
       "      <td>29998</td>\n",
       "      <td>Makayla Smith</td>\n",
       "      <td>23</td>\n",
       "      <td>164.885894</td>\n",
       "      <td>bronze</td>\n",
       "      <td>0</td>\n",
       "      <td>0</td>\n",
       "    </tr>\n",
       "    <tr>\n",
       "      <th>29999</th>\n",
       "      <td>29999</td>\n",
       "      <td>Tina Anderson</td>\n",
       "      <td>51</td>\n",
       "      <td>161.905284</td>\n",
       "      <td>gold</td>\n",
       "      <td>467</td>\n",
       "      <td>5</td>\n",
       "    </tr>\n",
       "  </tbody>\n",
       "</table>\n",
       "<p>30000 rows × 7 columns</p>\n",
       "</div>"
      ],
      "text/plain": [
       "       user_id            names  age  past_purchase_amt   badge  \\\n",
       "0            0  Adriana Mcclure   26          39.344704    gold   \n",
       "1            1    Stacy Gilmore   67          15.840151  silver   \n",
       "2            2     Joanna Walsh   50        1099.420085  bronze   \n",
       "3            3    Eduardo Moore   65           5.880239  bronze   \n",
       "4            4   Angela Freeman   88        1312.296847  bronze   \n",
       "...        ...              ...  ...                ...     ...   \n",
       "29995    29995    William Lewis   87         108.914205  bronze   \n",
       "29996    29996    James Miranda   49         291.969273    gold   \n",
       "29997    29997     Carlos Davis   46           2.609698  bronze   \n",
       "29998    29998    Makayla Smith   23         164.885894  bronze   \n",
       "29999    29999    Tina Anderson   51         161.905284    gold   \n",
       "\n",
       "       total seconds  id num  \n",
       "0                327       4  \n",
       "1                 78       1  \n",
       "2                432       4  \n",
       "3                  0       0  \n",
       "4                  0       0  \n",
       "...              ...     ...  \n",
       "29995            563       4  \n",
       "29996            532       6  \n",
       "29997              0       0  \n",
       "29998              0       0  \n",
       "29999            467       5  \n",
       "\n",
       "[30000 rows x 7 columns]"
      ]
     },
     "execution_count": 14,
     "metadata": {},
     "output_type": "execute_result"
    }
   ],
   "source": [
    "a"
   ]
  },
  {
   "cell_type": "code",
   "execution_count": null,
   "id": "b82d77c9-fa05-4548-857c-c56093e61779",
   "metadata": {},
   "outputs": [],
   "source": []
  }
 ],
 "metadata": {
  "kernelspec": {
   "display_name": "Python 3 (ipykernel)",
   "language": "python",
   "name": "python3"
  },
  "language_info": {
   "codemirror_mode": {
    "name": "ipython",
    "version": 3
   },
   "file_extension": ".py",
   "mimetype": "text/x-python",
   "name": "python",
   "nbconvert_exporter": "python",
   "pygments_lexer": "ipython3",
   "version": "3.10.6"
  }
 },
 "nbformat": 4,
 "nbformat_minor": 5
}
